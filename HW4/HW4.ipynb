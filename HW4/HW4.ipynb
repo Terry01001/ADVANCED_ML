{
 "cells": [
  {
   "cell_type": "markdown",
   "metadata": {},
   "source": [
    "## 4-1"
   ]
  },
  {
   "cell_type": "code",
   "execution_count": 1,
   "metadata": {},
   "outputs": [
    {
     "name": "stderr",
     "output_type": "stream",
     "text": [
      "c:\\Users\\user\\anaconda3\\envs\\pytorch\\lib\\site-packages\\tqdm\\auto.py:21: TqdmWarning: IProgress not found. Please update jupyter and ipywidgets. See https://ipywidgets.readthedocs.io/en/stable/user_install.html\n",
      "  from .autonotebook import tqdm as notebook_tqdm\n"
     ]
    }
   ],
   "source": [
    "import torch\n",
    "from torch.utils.data import Dataset, DataLoader, SubsetRandomSampler\n",
    "import torchvision.transforms as transforms\n",
    "from torchvision.models import resnet18\n",
    "import pandas as pd\n",
    "import os\n",
    "from PIL import Image\n",
    "import cv2\n",
    "import numpy as np\n",
    "from tqdm import tqdm\n"
   ]
  },
  {
   "cell_type": "code",
   "execution_count": 2,
   "metadata": {},
   "outputs": [],
   "source": [
    "# Custom dataset class\n",
    "class MNISTDataset(Dataset):\n",
    "    def __init__(self, root_dir, transform=None):\n",
    "        self.root_dir = root_dir\n",
    "        self.transform = transform\n",
    "        self.samples = [f for f in os.listdir(root_dir) if f.endswith('.png')]\n",
    "\n",
    "    def __len__(self):\n",
    "        return len(self.samples)\n",
    "\n",
    "    def __getitem__(self, idx):\n",
    "        img_name = os.path.join(self.root_dir, self.samples[idx])\n",
    "        img = cv2.imread(img_name)\n",
    "        \n",
    "        if self.transform:\n",
    "                img = self.transform(img)\n",
    "        \n",
    "        if self.root_dir.split('_')[2]=='train':\n",
    "            \n",
    "            label_file = img_name.replace('.png', '.txt')\n",
    "            with open(label_file, 'r') as f:\n",
    "                label = int(f.readline()[0])\n",
    "\n",
    "            return img, label\n",
    "        else:\n",
    "            return img, self.samples[idx]\n",
    "\n",
    "# Define transforms\n",
    "transform = transforms.Compose([\n",
    "    transforms.ToTensor(),\n",
    "])\n"
   ]
  },
  {
   "cell_type": "code",
   "execution_count": 3,
   "metadata": {},
   "outputs": [
    {
     "name": "stdout",
     "output_type": "stream",
     "text": [
      "Number of training samples: 97396\n"
     ]
    }
   ],
   "source": [
    "from sklearn.model_selection import StratifiedShuffleSplit\n",
    "\n",
    "\n",
    "def create_stratified_split(dataset, test_size=0.2):\n",
    "    labels = []\n",
    "    for _, label_path in enumerate(dataset.samples):\n",
    "        label_file = os.path.join(dataset.root_dir, label_path).replace('.png', '.txt')\n",
    "        with open(label_file, 'r') as f:\n",
    "            label = int(f.readline().strip()[0])\n",
    "        labels.append(label)\n",
    "\n",
    "    sss = StratifiedShuffleSplit(n_splits=1, test_size=test_size, random_state=0)\n",
    "    train_idx, valid_idx = next(sss.split(np.zeros(len(labels)), labels))\n",
    "    return train_idx, valid_idx\n",
    "\n",
    "# Create dataset\n",
    "train_dataset = MNISTDataset('../HW2/HW2_MNIST_train', transform=transform)\n",
    "\n",
    "# If val_flag is true, create stratified split\n",
    "val_flag = False\n",
    "if val_flag:\n",
    "    train_idx, valid_idx = create_stratified_split(train_dataset)\n",
    "\n",
    "    # Create samplers\n",
    "    train_sampler = SubsetRandomSampler(train_idx)\n",
    "    valid_sampler = SubsetRandomSampler(valid_idx)\n",
    "\n",
    "    # Create loaders\n",
    "    batch_size = 64\n",
    "    train_loader = DataLoader(train_dataset, batch_size=batch_size, sampler=train_sampler)\n",
    "    valid_loader = DataLoader(train_dataset, batch_size=batch_size, sampler=valid_sampler)\n",
    "\n",
    "    num_train_samples = len(train_sampler)\n",
    "    num_valid_samples = len(valid_sampler)\n",
    "\n",
    "    print(f'Number of training samples: {num_train_samples}')\n",
    "    print(f'Number of validation samples: {num_valid_samples}')\n",
    "\n",
    "else:\n",
    "    train_loader = DataLoader(train_dataset, batch_size=64, shuffle=True)\n",
    "\n",
    "    print(f'Number of training samples: {len(train_loader.dataset)}')\n"
   ]
  },
  {
   "cell_type": "code",
   "execution_count": 4,
   "metadata": {},
   "outputs": [],
   "source": [
    "def count_classes(dataset, indices):\n",
    "    class_counts = {}\n",
    "    for idx in indices:\n",
    "        img_name = os.path.join(dataset.root_dir, dataset.samples[idx])\n",
    "        label_file = img_name.replace('.png', '.txt')\n",
    "        with open(label_file, 'r') as f:\n",
    "            label = int(f.readline().strip()[0])\n",
    "        if label in class_counts:\n",
    "            class_counts[label] += 1\n",
    "        else:\n",
    "            class_counts[label] = 1\n",
    "    return class_counts\n",
    "\n",
    "if val_flag:\n",
    "    # Count classes in the training set\n",
    "    train_class_counts = count_classes(train_dataset, train_idx)\n",
    "    print(\"Training set class counts:\", train_class_counts)\n",
    "\n",
    "    # Count classes in the validation set\n",
    "    valid_class_counts = count_classes(train_dataset, valid_idx)\n",
    "    print(\"Validation set class counts:\", valid_class_counts)\n"
   ]
  },
  {
   "cell_type": "code",
   "execution_count": 5,
   "metadata": {},
   "outputs": [
    {
     "name": "stdout",
     "output_type": "stream",
     "text": [
      "Using device: cuda:0\n",
      "Start training SimpleRNN:\n"
     ]
    },
    {
     "name": "stderr",
     "output_type": "stream",
     "text": [
      "Training: 100%|██████████| 1522/1522 [00:41<00:00, 36.92it/s]\n"
     ]
    },
    {
     "name": "stdout",
     "output_type": "stream",
     "text": [
      "Epoch [1/20], SimpleRNN Train Loss: 2.2825, Train Accuracy: 0.1255\n"
     ]
    },
    {
     "name": "stderr",
     "output_type": "stream",
     "text": [
      "Training: 100%|██████████| 1522/1522 [00:41<00:00, 36.84it/s]\n"
     ]
    },
    {
     "name": "stdout",
     "output_type": "stream",
     "text": [
      "Epoch [2/20], SimpleRNN Train Loss: 2.2504, Train Accuracy: 0.1362\n"
     ]
    },
    {
     "name": "stderr",
     "output_type": "stream",
     "text": [
      "Training: 100%|██████████| 1522/1522 [00:41<00:00, 36.92it/s]\n"
     ]
    },
    {
     "name": "stdout",
     "output_type": "stream",
     "text": [
      "Epoch [3/20], SimpleRNN Train Loss: 2.2518, Train Accuracy: 0.1358\n"
     ]
    },
    {
     "name": "stderr",
     "output_type": "stream",
     "text": [
      "Training: 100%|██████████| 1522/1522 [00:41<00:00, 36.88it/s]\n"
     ]
    },
    {
     "name": "stdout",
     "output_type": "stream",
     "text": [
      "Epoch [4/20], SimpleRNN Train Loss: 2.2426, Train Accuracy: 0.1383\n"
     ]
    },
    {
     "name": "stderr",
     "output_type": "stream",
     "text": [
      "Training: 100%|██████████| 1522/1522 [00:41<00:00, 36.86it/s]\n"
     ]
    },
    {
     "name": "stdout",
     "output_type": "stream",
     "text": [
      "Epoch [5/20], SimpleRNN Train Loss: 2.3023, Train Accuracy: 0.1164\n"
     ]
    },
    {
     "name": "stderr",
     "output_type": "stream",
     "text": [
      "Training: 100%|██████████| 1522/1522 [00:41<00:00, 36.78it/s]\n"
     ]
    },
    {
     "name": "stdout",
     "output_type": "stream",
     "text": [
      "Epoch [6/20], SimpleRNN Train Loss: 2.2499, Train Accuracy: 0.1538\n"
     ]
    },
    {
     "name": "stderr",
     "output_type": "stream",
     "text": [
      "Training: 100%|██████████| 1522/1522 [00:40<00:00, 37.21it/s]\n"
     ]
    },
    {
     "name": "stdout",
     "output_type": "stream",
     "text": [
      "Epoch [7/20], SimpleRNN Train Loss: 2.2357, Train Accuracy: 0.1484\n"
     ]
    },
    {
     "name": "stderr",
     "output_type": "stream",
     "text": [
      "Training: 100%|██████████| 1522/1522 [00:41<00:00, 36.92it/s]\n"
     ]
    },
    {
     "name": "stdout",
     "output_type": "stream",
     "text": [
      "Epoch [8/20], SimpleRNN Train Loss: 2.2532, Train Accuracy: 0.1345\n"
     ]
    },
    {
     "name": "stderr",
     "output_type": "stream",
     "text": [
      "Training: 100%|██████████| 1522/1522 [00:40<00:00, 37.16it/s]\n"
     ]
    },
    {
     "name": "stdout",
     "output_type": "stream",
     "text": [
      "Epoch [9/20], SimpleRNN Train Loss: 2.2464, Train Accuracy: 0.1470\n"
     ]
    },
    {
     "name": "stderr",
     "output_type": "stream",
     "text": [
      "Training: 100%|██████████| 1522/1522 [00:41<00:00, 37.10it/s]\n"
     ]
    },
    {
     "name": "stdout",
     "output_type": "stream",
     "text": [
      "Epoch [10/20], SimpleRNN Train Loss: 2.2454, Train Accuracy: 0.1352\n"
     ]
    },
    {
     "name": "stderr",
     "output_type": "stream",
     "text": [
      "Training: 100%|██████████| 1522/1522 [00:41<00:00, 36.82it/s]\n"
     ]
    },
    {
     "name": "stdout",
     "output_type": "stream",
     "text": [
      "Epoch [11/20], SimpleRNN Train Loss: 2.2658, Train Accuracy: 0.1284\n"
     ]
    },
    {
     "name": "stderr",
     "output_type": "stream",
     "text": [
      "Training: 100%|██████████| 1522/1522 [00:45<00:00, 33.82it/s]\n"
     ]
    },
    {
     "name": "stdout",
     "output_type": "stream",
     "text": [
      "Epoch [12/20], SimpleRNN Train Loss: 2.2498, Train Accuracy: 0.1360\n"
     ]
    },
    {
     "name": "stderr",
     "output_type": "stream",
     "text": [
      "Training: 100%|██████████| 1522/1522 [00:46<00:00, 33.07it/s]\n"
     ]
    },
    {
     "name": "stdout",
     "output_type": "stream",
     "text": [
      "Epoch [13/20], SimpleRNN Train Loss: 2.2321, Train Accuracy: 0.1462\n"
     ]
    },
    {
     "name": "stderr",
     "output_type": "stream",
     "text": [
      "Training: 100%|██████████| 1522/1522 [00:43<00:00, 34.62it/s]\n"
     ]
    },
    {
     "name": "stdout",
     "output_type": "stream",
     "text": [
      "Epoch [14/20], SimpleRNN Train Loss: 2.2106, Train Accuracy: 0.1523\n"
     ]
    },
    {
     "name": "stderr",
     "output_type": "stream",
     "text": [
      "Training: 100%|██████████| 1522/1522 [00:42<00:00, 36.02it/s]\n"
     ]
    },
    {
     "name": "stdout",
     "output_type": "stream",
     "text": [
      "Epoch [15/20], SimpleRNN Train Loss: 2.2093, Train Accuracy: 0.1539\n"
     ]
    },
    {
     "name": "stderr",
     "output_type": "stream",
     "text": [
      "Training: 100%|██████████| 1522/1522 [00:40<00:00, 37.22it/s]\n"
     ]
    },
    {
     "name": "stdout",
     "output_type": "stream",
     "text": [
      "Epoch [16/20], SimpleRNN Train Loss: 2.1992, Train Accuracy: 0.1808\n"
     ]
    },
    {
     "name": "stderr",
     "output_type": "stream",
     "text": [
      "Training: 100%|██████████| 1522/1522 [00:40<00:00, 37.17it/s]\n"
     ]
    },
    {
     "name": "stdout",
     "output_type": "stream",
     "text": [
      "Epoch [17/20], SimpleRNN Train Loss: 2.2380, Train Accuracy: 0.1465\n"
     ]
    },
    {
     "name": "stderr",
     "output_type": "stream",
     "text": [
      "Training: 100%|██████████| 1522/1522 [00:40<00:00, 37.51it/s]\n"
     ]
    },
    {
     "name": "stdout",
     "output_type": "stream",
     "text": [
      "Epoch [18/20], SimpleRNN Train Loss: 2.2323, Train Accuracy: 0.1541\n"
     ]
    },
    {
     "name": "stderr",
     "output_type": "stream",
     "text": [
      "Training: 100%|██████████| 1522/1522 [00:41<00:00, 36.92it/s]\n"
     ]
    },
    {
     "name": "stdout",
     "output_type": "stream",
     "text": [
      "Epoch [19/20], SimpleRNN Train Loss: 2.2321, Train Accuracy: 0.1702\n"
     ]
    },
    {
     "name": "stderr",
     "output_type": "stream",
     "text": [
      "Training: 100%|██████████| 1522/1522 [00:41<00:00, 36.97it/s]\n"
     ]
    },
    {
     "name": "stdout",
     "output_type": "stream",
     "text": [
      "Epoch [20/20], SimpleRNN Train Loss: 2.2495, Train Accuracy: 0.1683\n",
      "Start training LSTM:\n"
     ]
    },
    {
     "name": "stderr",
     "output_type": "stream",
     "text": [
      "Training: 100%|██████████| 1522/1522 [00:50<00:00, 30.33it/s]\n"
     ]
    },
    {
     "name": "stdout",
     "output_type": "stream",
     "text": [
      "Epoch [1/20], LSTM Train Loss: 2.0716, Train Accuracy: 0.2029\n"
     ]
    },
    {
     "name": "stderr",
     "output_type": "stream",
     "text": [
      "Training: 100%|██████████| 1522/1522 [00:50<00:00, 30.07it/s]\n"
     ]
    },
    {
     "name": "stdout",
     "output_type": "stream",
     "text": [
      "Epoch [2/20], LSTM Train Loss: 1.1691, Train Accuracy: 0.5479\n"
     ]
    },
    {
     "name": "stderr",
     "output_type": "stream",
     "text": [
      "Training: 100%|██████████| 1522/1522 [00:49<00:00, 30.68it/s]\n"
     ]
    },
    {
     "name": "stdout",
     "output_type": "stream",
     "text": [
      "Epoch [3/20], LSTM Train Loss: 0.6153, Train Accuracy: 0.7906\n"
     ]
    },
    {
     "name": "stderr",
     "output_type": "stream",
     "text": [
      "Training: 100%|██████████| 1522/1522 [00:49<00:00, 30.52it/s]\n"
     ]
    },
    {
     "name": "stdout",
     "output_type": "stream",
     "text": [
      "Epoch [4/20], LSTM Train Loss: 0.3801, Train Accuracy: 0.8779\n"
     ]
    },
    {
     "name": "stderr",
     "output_type": "stream",
     "text": [
      "Training: 100%|██████████| 1522/1522 [00:49<00:00, 30.67it/s]\n"
     ]
    },
    {
     "name": "stdout",
     "output_type": "stream",
     "text": [
      "Epoch [5/20], LSTM Train Loss: 0.2903, Train Accuracy: 0.9072\n"
     ]
    },
    {
     "name": "stderr",
     "output_type": "stream",
     "text": [
      "Training: 100%|██████████| 1522/1522 [00:49<00:00, 30.91it/s]\n"
     ]
    },
    {
     "name": "stdout",
     "output_type": "stream",
     "text": [
      "Epoch [6/20], LSTM Train Loss: 0.2359, Train Accuracy: 0.9244\n"
     ]
    },
    {
     "name": "stderr",
     "output_type": "stream",
     "text": [
      "Training: 100%|██████████| 1522/1522 [00:49<00:00, 30.49it/s]\n"
     ]
    },
    {
     "name": "stdout",
     "output_type": "stream",
     "text": [
      "Epoch [7/20], LSTM Train Loss: 0.2012, Train Accuracy: 0.9356\n"
     ]
    },
    {
     "name": "stderr",
     "output_type": "stream",
     "text": [
      "Training: 100%|██████████| 1522/1522 [00:49<00:00, 30.52it/s]\n"
     ]
    },
    {
     "name": "stdout",
     "output_type": "stream",
     "text": [
      "Epoch [8/20], LSTM Train Loss: 0.1709, Train Accuracy: 0.9451\n"
     ]
    },
    {
     "name": "stderr",
     "output_type": "stream",
     "text": [
      "Training: 100%|██████████| 1522/1522 [00:49<00:00, 30.75it/s]\n"
     ]
    },
    {
     "name": "stdout",
     "output_type": "stream",
     "text": [
      "Epoch [9/20], LSTM Train Loss: 0.1497, Train Accuracy: 0.9515\n"
     ]
    },
    {
     "name": "stderr",
     "output_type": "stream",
     "text": [
      "Training: 100%|██████████| 1522/1522 [00:50<00:00, 30.29it/s]\n"
     ]
    },
    {
     "name": "stdout",
     "output_type": "stream",
     "text": [
      "Epoch [10/20], LSTM Train Loss: 0.1315, Train Accuracy: 0.9573\n"
     ]
    },
    {
     "name": "stderr",
     "output_type": "stream",
     "text": [
      "Training: 100%|██████████| 1522/1522 [00:50<00:00, 30.28it/s]\n"
     ]
    },
    {
     "name": "stdout",
     "output_type": "stream",
     "text": [
      "Epoch [11/20], LSTM Train Loss: 0.1171, Train Accuracy: 0.9615\n"
     ]
    },
    {
     "name": "stderr",
     "output_type": "stream",
     "text": [
      "Training: 100%|██████████| 1522/1522 [00:50<00:00, 30.00it/s]\n"
     ]
    },
    {
     "name": "stdout",
     "output_type": "stream",
     "text": [
      "Epoch [12/20], LSTM Train Loss: 0.1043, Train Accuracy: 0.9660\n"
     ]
    },
    {
     "name": "stderr",
     "output_type": "stream",
     "text": [
      "Training: 100%|██████████| 1522/1522 [00:50<00:00, 30.18it/s]\n"
     ]
    },
    {
     "name": "stdout",
     "output_type": "stream",
     "text": [
      "Epoch [13/20], LSTM Train Loss: 0.0956, Train Accuracy: 0.9685\n"
     ]
    },
    {
     "name": "stderr",
     "output_type": "stream",
     "text": [
      "Training: 100%|██████████| 1522/1522 [00:50<00:00, 29.96it/s]\n"
     ]
    },
    {
     "name": "stdout",
     "output_type": "stream",
     "text": [
      "Epoch [14/20], LSTM Train Loss: 0.0864, Train Accuracy: 0.9718\n"
     ]
    },
    {
     "name": "stderr",
     "output_type": "stream",
     "text": [
      "Training: 100%|██████████| 1522/1522 [00:49<00:00, 30.59it/s]\n"
     ]
    },
    {
     "name": "stdout",
     "output_type": "stream",
     "text": [
      "Epoch [15/20], LSTM Train Loss: 0.0783, Train Accuracy: 0.9743\n"
     ]
    },
    {
     "name": "stderr",
     "output_type": "stream",
     "text": [
      "Training: 100%|██████████| 1522/1522 [00:47<00:00, 32.26it/s]\n"
     ]
    },
    {
     "name": "stdout",
     "output_type": "stream",
     "text": [
      "Epoch [16/20], LSTM Train Loss: 0.0699, Train Accuracy: 0.9773\n"
     ]
    },
    {
     "name": "stderr",
     "output_type": "stream",
     "text": [
      "Training: 100%|██████████| 1522/1522 [00:49<00:00, 30.69it/s]\n"
     ]
    },
    {
     "name": "stdout",
     "output_type": "stream",
     "text": [
      "Epoch [17/20], LSTM Train Loss: 0.0651, Train Accuracy: 0.9787\n"
     ]
    },
    {
     "name": "stderr",
     "output_type": "stream",
     "text": [
      "Training: 100%|██████████| 1522/1522 [00:50<00:00, 30.19it/s]\n"
     ]
    },
    {
     "name": "stdout",
     "output_type": "stream",
     "text": [
      "Epoch [18/20], LSTM Train Loss: 0.0597, Train Accuracy: 0.9805\n"
     ]
    },
    {
     "name": "stderr",
     "output_type": "stream",
     "text": [
      "Training: 100%|██████████| 1522/1522 [00:50<00:00, 30.14it/s]\n"
     ]
    },
    {
     "name": "stdout",
     "output_type": "stream",
     "text": [
      "Epoch [19/20], LSTM Train Loss: 0.0561, Train Accuracy: 0.9813\n"
     ]
    },
    {
     "name": "stderr",
     "output_type": "stream",
     "text": [
      "Training: 100%|██████████| 1522/1522 [00:50<00:00, 30.12it/s]\n"
     ]
    },
    {
     "name": "stdout",
     "output_type": "stream",
     "text": [
      "Epoch [20/20], LSTM Train Loss: 0.0499, Train Accuracy: 0.9833\n",
      "Start training GRU:\n"
     ]
    },
    {
     "name": "stderr",
     "output_type": "stream",
     "text": [
      "Training: 100%|██████████| 1522/1522 [00:53<00:00, 28.57it/s]\n"
     ]
    },
    {
     "name": "stdout",
     "output_type": "stream",
     "text": [
      "Epoch [1/20], GRU Train Loss: 1.0421, Train Accuracy: 0.6174\n"
     ]
    },
    {
     "name": "stderr",
     "output_type": "stream",
     "text": [
      "Training: 100%|██████████| 1522/1522 [00:53<00:00, 28.71it/s]\n"
     ]
    },
    {
     "name": "stdout",
     "output_type": "stream",
     "text": [
      "Epoch [2/20], GRU Train Loss: 0.2662, Train Accuracy: 0.9130\n"
     ]
    },
    {
     "name": "stderr",
     "output_type": "stream",
     "text": [
      "Training: 100%|██████████| 1522/1522 [00:52<00:00, 28.91it/s]\n"
     ]
    },
    {
     "name": "stdout",
     "output_type": "stream",
     "text": [
      "Epoch [3/20], GRU Train Loss: 0.1743, Train Accuracy: 0.9440\n"
     ]
    },
    {
     "name": "stderr",
     "output_type": "stream",
     "text": [
      "Training: 100%|██████████| 1522/1522 [00:52<00:00, 29.00it/s]\n"
     ]
    },
    {
     "name": "stdout",
     "output_type": "stream",
     "text": [
      "Epoch [4/20], GRU Train Loss: 0.1334, Train Accuracy: 0.9565\n"
     ]
    },
    {
     "name": "stderr",
     "output_type": "stream",
     "text": [
      "Training: 100%|██████████| 1522/1522 [00:52<00:00, 28.94it/s]\n"
     ]
    },
    {
     "name": "stdout",
     "output_type": "stream",
     "text": [
      "Epoch [5/20], GRU Train Loss: 0.1046, Train Accuracy: 0.9657\n"
     ]
    },
    {
     "name": "stderr",
     "output_type": "stream",
     "text": [
      "Training: 100%|██████████| 1522/1522 [00:52<00:00, 29.00it/s]\n"
     ]
    },
    {
     "name": "stdout",
     "output_type": "stream",
     "text": [
      "Epoch [6/20], GRU Train Loss: 0.0893, Train Accuracy: 0.9705\n"
     ]
    },
    {
     "name": "stderr",
     "output_type": "stream",
     "text": [
      "Training: 100%|██████████| 1522/1522 [00:52<00:00, 29.09it/s]\n"
     ]
    },
    {
     "name": "stdout",
     "output_type": "stream",
     "text": [
      "Epoch [7/20], GRU Train Loss: 0.0722, Train Accuracy: 0.9758\n"
     ]
    },
    {
     "name": "stderr",
     "output_type": "stream",
     "text": [
      "Training: 100%|██████████| 1522/1522 [00:52<00:00, 28.97it/s]\n"
     ]
    },
    {
     "name": "stdout",
     "output_type": "stream",
     "text": [
      "Epoch [8/20], GRU Train Loss: 0.0618, Train Accuracy: 0.9800\n"
     ]
    },
    {
     "name": "stderr",
     "output_type": "stream",
     "text": [
      "Training: 100%|██████████| 1522/1522 [00:52<00:00, 29.02it/s]\n"
     ]
    },
    {
     "name": "stdout",
     "output_type": "stream",
     "text": [
      "Epoch [9/20], GRU Train Loss: 0.0554, Train Accuracy: 0.9813\n"
     ]
    },
    {
     "name": "stderr",
     "output_type": "stream",
     "text": [
      "Training: 100%|██████████| 1522/1522 [00:52<00:00, 28.99it/s]\n"
     ]
    },
    {
     "name": "stdout",
     "output_type": "stream",
     "text": [
      "Epoch [10/20], GRU Train Loss: 0.0468, Train Accuracy: 0.9838\n"
     ]
    },
    {
     "name": "stderr",
     "output_type": "stream",
     "text": [
      "Training: 100%|██████████| 1522/1522 [00:51<00:00, 29.42it/s]\n"
     ]
    },
    {
     "name": "stdout",
     "output_type": "stream",
     "text": [
      "Epoch [11/20], GRU Train Loss: 0.0441, Train Accuracy: 0.9854\n"
     ]
    },
    {
     "name": "stderr",
     "output_type": "stream",
     "text": [
      "Training: 100%|██████████| 1522/1522 [00:51<00:00, 29.53it/s]\n"
     ]
    },
    {
     "name": "stdout",
     "output_type": "stream",
     "text": [
      "Epoch [12/20], GRU Train Loss: 0.0390, Train Accuracy: 0.9867\n"
     ]
    },
    {
     "name": "stderr",
     "output_type": "stream",
     "text": [
      "Training: 100%|██████████| 1522/1522 [00:51<00:00, 29.62it/s]\n"
     ]
    },
    {
     "name": "stdout",
     "output_type": "stream",
     "text": [
      "Epoch [13/20], GRU Train Loss: 0.0359, Train Accuracy: 0.9879\n"
     ]
    },
    {
     "name": "stderr",
     "output_type": "stream",
     "text": [
      "Training: 100%|██████████| 1522/1522 [00:52<00:00, 29.14it/s]\n"
     ]
    },
    {
     "name": "stdout",
     "output_type": "stream",
     "text": [
      "Epoch [14/20], GRU Train Loss: 0.0341, Train Accuracy: 0.9886\n"
     ]
    },
    {
     "name": "stderr",
     "output_type": "stream",
     "text": [
      "Training: 100%|██████████| 1522/1522 [00:52<00:00, 29.26it/s]\n"
     ]
    },
    {
     "name": "stdout",
     "output_type": "stream",
     "text": [
      "Epoch [15/20], GRU Train Loss: 0.0328, Train Accuracy: 0.9887\n"
     ]
    },
    {
     "name": "stderr",
     "output_type": "stream",
     "text": [
      "Training: 100%|██████████| 1522/1522 [00:51<00:00, 29.29it/s]\n"
     ]
    },
    {
     "name": "stdout",
     "output_type": "stream",
     "text": [
      "Epoch [16/20], GRU Train Loss: 0.0327, Train Accuracy: 0.9890\n"
     ]
    },
    {
     "name": "stderr",
     "output_type": "stream",
     "text": [
      "Training: 100%|██████████| 1522/1522 [00:52<00:00, 28.83it/s]\n"
     ]
    },
    {
     "name": "stdout",
     "output_type": "stream",
     "text": [
      "Epoch [17/20], GRU Train Loss: 0.0268, Train Accuracy: 0.9910\n"
     ]
    },
    {
     "name": "stderr",
     "output_type": "stream",
     "text": [
      "Training: 100%|██████████| 1522/1522 [00:53<00:00, 28.52it/s]\n"
     ]
    },
    {
     "name": "stdout",
     "output_type": "stream",
     "text": [
      "Epoch [18/20], GRU Train Loss: 0.0274, Train Accuracy: 0.9907\n"
     ]
    },
    {
     "name": "stderr",
     "output_type": "stream",
     "text": [
      "Training: 100%|██████████| 1522/1522 [00:53<00:00, 28.49it/s]\n"
     ]
    },
    {
     "name": "stdout",
     "output_type": "stream",
     "text": [
      "Epoch [19/20], GRU Train Loss: 0.0278, Train Accuracy: 0.9908\n"
     ]
    },
    {
     "name": "stderr",
     "output_type": "stream",
     "text": [
      "Training: 100%|██████████| 1522/1522 [00:53<00:00, 28.56it/s]"
     ]
    },
    {
     "name": "stdout",
     "output_type": "stream",
     "text": [
      "Epoch [20/20], GRU Train Loss: 0.0262, Train Accuracy: 0.9910\n"
     ]
    },
    {
     "name": "stderr",
     "output_type": "stream",
     "text": [
      "\n"
     ]
    }
   ],
   "source": [
    "import torch.nn as nn\n",
    "import torch.optim as optim\n",
    "from datetime import datetime\n",
    "\n",
    "device = torch.device(\"cuda:0\" if torch.cuda.is_available() else \"cpu\")\n",
    "print(f\"Using device: {device}\")\n",
    "\n",
    "# RNN models\n",
    "class RNNClassifier(nn.Module):\n",
    "    def __init__(self, input_size, hidden_size, num_layers, num_classes, rnn_type):\n",
    "        super(RNNClassifier, self).__init__()\n",
    "        if rnn_type == 'SimpleRNN':\n",
    "            self.rnn = nn.RNN(input_size, hidden_size, num_layers, batch_first=True)\n",
    "        elif rnn_type == 'LSTM':\n",
    "            self.rnn = nn.LSTM(input_size, hidden_size, num_layers, batch_first=True)\n",
    "        elif rnn_type == 'GRU':\n",
    "            self.rnn = nn.GRU(input_size, hidden_size, num_layers, batch_first=True)\n",
    "        self.fc = nn.Linear(hidden_size, num_classes)\n",
    "\n",
    "    def forward(self, x):\n",
    "        # x shape: (batch, seq_len, input_size)\n",
    "        out, _ = self.rnn(x)\n",
    "        # take the last sequence to output\n",
    "        out = out[:, -1, :]\n",
    "        out = self.fc(out)\n",
    "        return out\n",
    "\n",
    "# hyperparameters\n",
    "input_size = 256  # patch size (16x16)\n",
    "hidden_size = [64,64,128]  # RNN hidden layer\n",
    "num_layers = [2,2,4]  # RNN layers\n",
    "num_classes = 10  \n",
    "seq_length = 64  # 圖像轉換成序列的長度 (128x128 圖像分割成8x8塊，每塊16x16)\n",
    "\n",
    "# define model\n",
    "models = {\n",
    "    'SimpleRNN': RNNClassifier(input_size, hidden_size[0], num_layers[0], num_classes, 'SimpleRNN'),\n",
    "    'LSTM': RNNClassifier(input_size, hidden_size[1], num_layers[1], num_classes, 'LSTM'),\n",
    "    'GRU': RNNClassifier(input_size, hidden_size[2], num_layers[2], num_classes, 'GRU'),\n",
    "}\n",
    "\n",
    "# loss function and optimizer\n",
    "criterion = nn.CrossEntropyLoss()\n",
    "optimizers = {m: optim.Adam(model.parameters(), lr=0.001) for m, model in models.items()}\n",
    "\n",
    "# function: image to sequence\n",
    "def image_to_seq(image, block_size=16):\n",
    "    # segment image into patches \n",
    "    patches = image.unfold(2, block_size, block_size).unfold(3, block_size, block_size)\n",
    "    patches = patches.contiguous().view(image.size(0), -1, block_size*block_size)\n",
    "    return patches\n",
    "\n",
    "# training epoch\n",
    "num_epochs = 20\n",
    "for model_name, model in models.items():\n",
    "    print(f'Start training {model_name}:')\n",
    "    model = model.to(device)\n",
    "    optimizer = optimizers[model_name]\n",
    "    best_val_acc = 0.0\n",
    "    for epoch in range(num_epochs):\n",
    "        model.train()\n",
    "        train_loss, train_correct, train_total = 0.0, 0, 0\n",
    "        val_loss, val_correct, val_total = 0.0, 0, 0\n",
    "\n",
    "        \n",
    "        for images, labels in tqdm(train_loader, desc='Training'):\n",
    "            images, labels = images.to(device), labels.to(device)\n",
    "\n",
    "            images_seq = image_to_seq(images)\n",
    "            \n",
    "            outputs = model(images_seq)\n",
    "            loss = criterion(outputs, labels)\n",
    "            \n",
    "            optimizer.zero_grad()\n",
    "            loss.backward()\n",
    "            optimizer.step()\n",
    "            \n",
    "            train_loss += loss.item()\n",
    "            _, predicted = torch.max(outputs, 1)\n",
    "            train_total += labels.size(0)\n",
    "            train_correct += (predicted == labels).sum().item()\n",
    "        \n",
    "        \n",
    "        train_acc = train_correct / train_total\n",
    "        \n",
    "        if val_flag:\n",
    "            model.eval()\n",
    "            with torch.no_grad():\n",
    "                for images, labels in tqdm(valid_loader, desc='Validation'):\n",
    "                    images, labels = images.to(device), labels.to(device)\n",
    "                    images_seq = image_to_seq(images)\n",
    "                    outputs = model(images_seq)\n",
    "                    loss = criterion(outputs, labels)\n",
    "\n",
    "                    val_loss += loss.item()\n",
    "                    _, predicted = torch.max(outputs, 1)\n",
    "                    val_total += labels.size(0)\n",
    "                    val_correct += (predicted == labels).sum().item()\n",
    "\n",
    "            val_acc = val_correct / val_total\n",
    "            print(f'Epoch [{epoch+1}/{num_epochs}], {model_name} Train Loss: {train_loss / len(train_loader):.4f}, Train Accuracy: {train_acc:.4f}, Val Loss: {val_loss / len(valid_loader):.4f}, Val Accuracy: {val_acc:.4f}')\n",
    "            if val_acc > best_val_acc:\n",
    "                best_val_acc = val_acc\n",
    "                torch.save(model.state_dict(), f'best_{model_name}.pth')\n",
    "        else:\n",
    "            print(f'Epoch [{epoch+1}/{num_epochs}], {model_name} Train Loss: {train_loss / len(train_loader):.4f}, Train Accuracy: {train_acc:.4f}')\n",
    "    #timestamp = datetime.now().strftime('%Y%m%d_%H%M%S')\n",
    "    torch.save(model.state_dict(), f'{model_name}.pth')\n"
   ]
  },
  {
   "cell_type": "code",
   "execution_count": 17,
   "metadata": {},
   "outputs": [
    {
     "name": "stderr",
     "output_type": "stream",
     "text": [
      "100%|██████████| 1522/1522 [00:38<00:00, 39.10it/s]\n"
     ]
    },
    {
     "name": "stdout",
     "output_type": "stream",
     "text": [
      "SimpleRNN train accuracy: 0.1552\n"
     ]
    },
    {
     "name": "stderr",
     "output_type": "stream",
     "text": [
      "100%|██████████| 1522/1522 [00:39<00:00, 38.13it/s]\n"
     ]
    },
    {
     "name": "stdout",
     "output_type": "stream",
     "text": [
      "LSTM train accuracy: 0.9858\n"
     ]
    },
    {
     "name": "stderr",
     "output_type": "stream",
     "text": [
      "100%|██████████| 1522/1522 [00:48<00:00, 31.65it/s]"
     ]
    },
    {
     "name": "stdout",
     "output_type": "stream",
     "text": [
      "GRU train accuracy: 0.9918\n"
     ]
    },
    {
     "name": "stderr",
     "output_type": "stream",
     "text": [
      "\n"
     ]
    }
   ],
   "source": [
    "# hyperparameters\n",
    "input_size = 256  # patch size (16x16)\n",
    "hidden_size = [64,64,128]  # RNN hidden layer\n",
    "num_layers = [2,2,4]  # RNN layers\n",
    "num_classes = 10  \n",
    "seq_length = 64  # 圖像轉換成序列的長度 (128x128 圖像分割成8x8塊，每塊16x16)\n",
    "\n",
    "# define model\n",
    "models = {\n",
    "    'SimpleRNN': RNNClassifier(input_size, hidden_size[0], num_layers[0], num_classes, 'SimpleRNN'),\n",
    "    'LSTM': RNNClassifier(input_size, hidden_size[1], num_layers[1], num_classes, 'LSTM'),\n",
    "    'GRU': RNNClassifier(input_size, hidden_size[2], num_layers[2], num_classes, 'GRU'),\n",
    "}\n",
    "\n",
    "\n",
    "for model_name, model in models.items():\n",
    "    model_path = f'{model_name}.pth'\n",
    "    model.load_state_dict(torch.load(model_path, map_location=device))\n",
    "    model = model.to(device)\n",
    "    model.eval()\n",
    "    train_total = 0\n",
    "    train_correct = 0 \n",
    "    train_acc = 0\n",
    "    with torch.no_grad():\n",
    "        for images, labels in tqdm(train_loader):\n",
    "            images, labels = images.to(device), labels.to(device)\n",
    "            images_seq = image_to_seq(images)\n",
    "            outputs = model(images_seq)\n",
    "            _, predicted = torch.max(outputs.data, 1)\n",
    "\n",
    "            train_total += labels.size(0)\n",
    "            train_correct += (predicted == labels).sum().item()\n",
    "            \n",
    "            \n",
    "        train_acc = train_correct / train_total\n",
    "    \n",
    "    print(f'{model_name} train accuracy: {train_acc:.4f}')\n",
    "        "
   ]
  },
  {
   "cell_type": "markdown",
   "metadata": {},
   "source": [
    "### 三個模型的訓練預測結果比較\n",
    "\n",
    "#### RNN\n",
    "- 我的 RNN hidden size 設為 64 ， num_layers 設為 2 \n",
    "- 從整個訓練的過程來看，training loss 無法有效下降，可能是遇到**梯度消失**的問題，因為自己也有試過其他參數跑 RNN，結果大同小異，training loss 都無法有效地減少。\n",
    "- 在整個訓練集訓練後的預測結果為準確度 **0.1552** (我也有嘗試切 80% 訓練集 20% 驗證集，其在驗證集的表現度，也大約是十幾%)\n",
    "\n",
    "#### LSTM\n",
    "- 我的 LSTM hidden size 設為 64 ， num_layers 設為 2 \n",
    "- LSTM 引入了 cell vector $C(t)$， 透過**線性相加**的方式可以使梯度更好的被傳遞，解決了RNN可能遇到梯度消失的問題。\n",
    "- 從整個訓練的過程來看，training accuracy 每一個 epoch 都有在提升，直到 10 個 epochs 以後，成長才趨於平緩 \n",
    "- 在整個訓練集訓練後的預測結果為準確度 **0.9858** (我也有嘗試切 80% 訓練集 20% 驗證集，其在驗證集的表現度，也有達到 93%)\n",
    "\n",
    "#### GRU\n",
    "- 我的 LSTM hidden size 設為 128 ， num_layers 設為 4 \n",
    "- GRU 繼承了 LSTM 容易傳播梯度的特點，同時又**減少了學習參數與計算量**\n",
    "- 從整個訓練的過程來看，training accuracy 在第一個 epoch 提升很快，之後每個 epoch 也是有在穩定成長 \n",
    "- 在整個訓練集訓練後的預測結果為準確度 **0.9918** (我也有嘗試切 80% 訓練集 20% 驗證集，其在驗證集的表現度，也有達到 96%)\n",
    "\n",
    "#### 分析：\n",
    "資料集類似 MNIST，在圖片中完全黑暗的 patch，RNN 模型可能因梯度消失或無法順利傳遞，導致此模型訓練的結果不是很好。\n",
    "而我使用了 GRU 作為我最後預測出 HW4_prob1.csv 的模型，因我實驗結果做出比 LSTM 好，可能原因為我使用的參數較多，也可能此資料集較適合使用 GRU，因有文獻指出，在大量資料集下，LSTM 的表現度可能超越 RNN 與 GRU。"
   ]
  },
  {
   "cell_type": "code",
   "execution_count": 18,
   "metadata": {},
   "outputs": [
    {
     "name": "stdout",
     "output_type": "stream",
     "text": [
      "Number of trainable parameters(SimpleRNN):  29578\n",
      "Number of trainable parameters(LSTM):  116362\n",
      "Number of trainable parameters(GRU):  446730\n"
     ]
    }
   ],
   "source": [
    "# Number of layers and parameters\n",
    "def count_parameters(model):\n",
    "    return sum(p.numel() for p in model.parameters() if p.requires_grad)\n",
    "\n",
    "num_parameters = count_parameters(models['SimpleRNN'])\n",
    "print(\"Number of trainable parameters(SimpleRNN): \", num_parameters)\n",
    "\n",
    "num_parameters = count_parameters(models['LSTM'])\n",
    "print(\"Number of trainable parameters(LSTM): \", num_parameters)\n",
    "\n",
    "num_parameters = count_parameters(models['GRU'])\n",
    "print(\"Number of trainable parameters(GRU): \", num_parameters)\n"
   ]
  },
  {
   "cell_type": "code",
   "execution_count": 37,
   "metadata": {},
   "outputs": [
    {
     "name": "stderr",
     "output_type": "stream",
     "text": [
      "100%|██████████| 381/381 [00:10<00:00, 36.56it/s]\n"
     ]
    }
   ],
   "source": [
    "test_dataset = MNISTDataset('../HW2/HW2_MNIST_test', transform=transform)\n",
    "test_loader = DataLoader(test_dataset, batch_size=64, shuffle=False)\n",
    "\n",
    "model = RNNClassifier(256, 128, 4, 10, 'GRU')\n",
    "\n",
    "# load model\n",
    "model_path = 'GRU.pth'  \n",
    "model.load_state_dict(torch.load(model_path, map_location=device))\n",
    "model = model.to(device)\n",
    "\n",
    "\n",
    "# Perform predictions on the test set\n",
    "model.eval()  \n",
    "predictions = []\n",
    "image_files = []\n",
    "\n",
    "with torch.no_grad():\n",
    "    for data in tqdm(test_loader):\n",
    "        images, file_names = data\n",
    "        images = images.to(device)\n",
    "        images_seq = image_to_seq(images)\n",
    "        outputs = model(images_seq)\n",
    "        _, predicted = torch.max(outputs.data, 1)\n",
    "        predictions.extend(predicted.cpu().numpy())\n",
    "        image_files.extend(file_names)\n",
    "\n",
    "# Save to CSV\n",
    "predictions_df = pd.DataFrame({\n",
    "    'image': image_files,\n",
    "    'class': predictions\n",
    "})\n",
    "predictions_df.to_csv('HW4_prob1.csv', index=False)"
   ]
  },
  {
   "cell_type": "markdown",
   "metadata": {},
   "source": [
    "## 4.2"
   ]
  },
  {
   "cell_type": "code",
   "execution_count": 32,
   "metadata": {},
   "outputs": [
    {
     "name": "stdout",
     "output_type": "stream",
     "text": [
      "Epoch [100/500], Loss: 0.0000\n",
      "Epoch [200/500], Loss: 0.0000\n",
      "Epoch [300/500], Loss: 0.0000\n",
      "Epoch [400/500], Loss: 0.0000\n",
      "Epoch [500/500], Loss: 0.0000\n"
     ]
    },
    {
     "data": {
      "image/png": "[encoded data removed]",
      "text/plain": [
       "<Figure size 640x480 with 1 Axes>"
      ]
     },
     "metadata": {},
     "output_type": "display_data"
    },
    {
     "data": {
      "image/png": "[encoded data removed]",
      "text/plain": [
       "<Figure size 1000x600 with 1 Axes>"
      ]
     },
     "metadata": {},
     "output_type": "display_data"
    }
   ],
   "source": [
    "from torch.utils.data import TensorDataset\n",
    "import matplotlib.pyplot as plt\n",
    "import pandas as pd\n",
    "import torch\n",
    "from torch.utils.data import DataLoader\n",
    "import torch.nn as nn\n",
    "import torch.optim as optim\n",
    "\n",
    "data_path = './HW4_prob2.csv'\n",
    "data = pd.read_csv(data_path)\n",
    "\n",
    "# data\n",
    "X = torch.tensor(data.values, dtype=torch.float32)\n",
    "\n",
    "# use data as inputs and outputs\n",
    "dataset = TensorDataset(X, X)\n",
    "data_loader = DataLoader(dataset, batch_size=10, shuffle=True)\n",
    "\n",
    "# define model\n",
    "class Generator(nn.Module):\n",
    "    def __init__(self, input_size, hidden_size, output_size):\n",
    "        super(Generator, self).__init__()\n",
    "        self.network = nn.Sequential(\n",
    "            nn.Linear(input_size, hidden_size),\n",
    "            nn.ReLU(),\n",
    "            nn.Linear(hidden_size, hidden_size),\n",
    "            nn.ReLU(),\n",
    "            nn.Linear(hidden_size, output_size)\n",
    "        )\n",
    "        \n",
    "    def forward(self, x):\n",
    "        return self.network(x)\n",
    "\n",
    "\n",
    "input_size = X.size(1)\n",
    "hidden_size = 50  \n",
    "output_size = input_size  \n",
    "model = Generator(input_size, hidden_size, output_size)\n",
    "\n",
    "# loss function and optimizer\n",
    "criterion = nn.MSELoss()  \n",
    "optimizer = optim.Adam(model.parameters(), lr=0.001)\n",
    "\n",
    "\n",
    "num_epochs = 500  \n",
    "losses = []  \n",
    "for epoch in range(num_epochs):\n",
    "    for batch_features, _ in data_loader:\n",
    "        \n",
    "        batch_features = batch_features.to(torch.float32)\n",
    "        outputs = model(batch_features)\n",
    "        loss = criterion(outputs, batch_features)\n",
    "        \n",
    "        \n",
    "        optimizer.zero_grad()\n",
    "        loss.backward()\n",
    "        optimizer.step()\n",
    "        \n",
    "        \n",
    "        losses.append(loss.item())\n",
    "    \n",
    "    if (epoch+1) % 100 == 0:\n",
    "        print(f'Epoch [{epoch+1}/{num_epochs}], Loss: {loss.item():.4f}')\n",
    "\n",
    "plt.plot(losses)\n",
    "plt.xlabel('Epoch')\n",
    "plt.ylabel('Loss')\n",
    "plt.show()\n",
    "\n",
    "with torch.no_grad():\n",
    "    new_data = model(X).numpy()\n",
    "\n",
    "plt.figure(figsize=(10, 6)) \n",
    "plt.scatter(data['U1'], data['U2'], color='blue', alpha=0.2, s=10, edgecolor='blue', label='Original Data')\n",
    "plt.scatter(new_data[:, 0], new_data[:, 1], color='red', alpha=0.2, s=10, edgecolor='red', label='Generated Data')\n",
    "plt.legend()\n",
    "plt.xlabel('U1')\n",
    "plt.ylabel('U2')\n",
    "plt.grid(True)  \n",
    "plt.title('Comparison of Original and Generated Data')\n",
    "plt.show()\n",
    "\n"
   ]
  },
  {
   "cell_type": "code",
   "execution_count": 33,
   "metadata": {},
   "outputs": [
    {
     "name": "stdout",
     "output_type": "stream",
     "text": [
      "Epoch [100/500], Loss: 0.0003\n",
      "Epoch [200/500], Loss: 0.0000\n",
      "Epoch [300/500], Loss: 0.0000\n",
      "Epoch [400/500], Loss: 0.0000\n",
      "Epoch [500/500], Loss: 0.0000\n"
     ]
    },
    {
     "data": {
      "image/png": "[encoded data removed]",
      "text/plain": [
       "<Figure size 1000x600 with 1 Axes>"
      ]
     },
     "metadata": {},
     "output_type": "display_data"
    }
   ],
   "source": [
    "class GRUModel(nn.Module):\n",
    "    def __init__(self, input_size, hidden_size, num_layers, output_size):\n",
    "        super(GRUModel, self).__init__()\n",
    "        self.gru = nn.GRU(input_size, hidden_size, num_layers, batch_first=True)\n",
    "        self.fc = nn.Linear(hidden_size, output_size)\n",
    "\n",
    "    def forward(self, x, hidden):\n",
    "        out, hidden = self.gru(x, hidden)\n",
    "        out = self.fc(out[:, -1, :])  \n",
    "        return out, hidden\n",
    "\n",
    "input_size = 2  \n",
    "hidden_size = 50  \n",
    "num_layers = 1  \n",
    "output_size = input_size  \n",
    "gru_model = GRUModel(input_size, hidden_size, num_layers, output_size).to(device)\n",
    "\n",
    "\n",
    "criterion = nn.MSELoss()\n",
    "optimizer = optim.Adam(gru_model.parameters(), lr=0.001)\n",
    "\n",
    "\n",
    "X_gru = X.unsqueeze(1)  \n",
    "\n",
    "num_epochs = 500\n",
    "for epoch in range(num_epochs):\n",
    "    hidden = None  \n",
    "    for batch_features, _ in data_loader:\n",
    "        \n",
    "        optimizer.zero_grad()\n",
    "        \n",
    "        \n",
    "        batch_features = batch_features.unsqueeze(1).to(device)\n",
    "        \n",
    "        \n",
    "        outputs, hidden = gru_model(batch_features, hidden)\n",
    "        \n",
    "        hidden = hidden.detach()\n",
    "        \n",
    "        loss = criterion(outputs, batch_features[:, -1, :])\n",
    "        \n",
    "        loss.backward()\n",
    "        optimizer.step()\n",
    "        \n",
    "    # output every 100 epochs\n",
    "    if (epoch+1) % 100 == 0:\n",
    "        print(f'Epoch [{epoch+1}/{num_epochs}], Loss: {loss.item():.4f}')\n",
    "\n",
    "\n",
    "with torch.no_grad():\n",
    "    \n",
    "    X_gru = X_gru.to(device)\n",
    "    generated_data, _ = gru_model(X_gru, None)\n",
    "    generated_data = generated_data.cpu().numpy()\n",
    "\n",
    "\n",
    "plt.figure(figsize=(10, 6))\n",
    "plt.scatter(data['U1'], data['U2'], color='blue', alpha=0.3, s=10, edgecolor='blue', label='Original Data')\n",
    "plt.scatter(generated_data[:, 0], generated_data[:, 1], color='red', alpha=0.3, s=10, edgecolor='red', label='Generated Data')\n",
    "plt.legend()\n",
    "plt.xlabel('U1')\n",
    "plt.ylabel('U2')\n",
    "plt.grid(True)\n",
    "plt.title('Comparison of Original and Generated Data')\n",
    "plt.show()\n",
    "\n"
   ]
  }
 ],
 "metadata": {
  "kernelspec": {
   "display_name": "base",
   "language": "python",
   "name": "python3"
  },
  "language_info": {
   "codemirror_mode": {
    "name": "ipython",
    "version": 3
   },
   "file_extension": ".py",
   "mimetype": "text/x-python",
   "name": "python",
   "nbconvert_exporter": "python",
   "pygments_lexer": "ipython3",
   "version": "3.8.19"
  }
 },
 "nbformat": 4,
 "nbformat_minor": 2
}
